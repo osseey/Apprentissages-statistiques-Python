{
  "cells": [
    {
      "cell_type": "markdown",
      "id": "0b135852",
      "metadata": {
        "id": "0b135852"
      },
      "source": [
        "La lecture d’un tutoriel pandas pourra être utile : http://pandas.pydata.org/pandas-docs/stable/tutorials.html.\n",
        "Nous travaillons sur la base de données Investment Data Set 1 qui peut être téléchargée depuis\n",
        "https://bitbucket.org/portierf/shared_files/downloads/invest.txt.\n",
        "\n",
        "Avant de commencer, on réalisera l’exercice 12 du polycopié : ”explicit formulas when p “ 1 for prediction intervals\", se trouvant dans le chapitre 3 : “Confidence intervals and hypothesis testing”. \n",
        "On pourra aussi lire la section 3.3 de ce même chapitre du polycopié.\n",
        "\n"
      ]
    },
    {
      "cell_type": "code",
      "execution_count": null,
      "id": "eeab5890",
      "metadata": {
        "id": "eeab5890"
      },
      "outputs": [],
      "source": [
        "import pandas as pd\n",
        "import numpy as np\n",
        "import matplotlib.pyplot as plt\n",
        "import seaborn as sns\n",
        "from sklearn.linear_model import LinearRegression\n",
        "from sklearn.preprocessing import StandardScaler\n",
        "from sklearn.metrics import r2_score\n",
        "import random"
      ]
    },
    {
      "cell_type": "markdown",
      "id": "ee22a73a",
      "metadata": {
        "id": "ee22a73a"
      },
      "source": [
        "### Question 1\n",
        "Importer la base de données “invest.txt” et l’afficher dans une forme lisible, e.g. une table contenant les 5 premières observations."
      ]
    },
    {
      "cell_type": "code",
      "execution_count": null,
      "id": "a417f65b",
      "metadata": {
        "id": "a417f65b",
        "outputId": "60152b51-1429-4305-8e2b-8da2c6f04de4"
      },
      "outputs": [
        {
          "data": {
            "text/html": [
              "<div>\n",
              "<style scoped>\n",
              "    .dataframe tbody tr th:only-of-type {\n",
              "        vertical-align: middle;\n",
              "    }\n",
              "\n",
              "    .dataframe tbody tr th {\n",
              "        vertical-align: top;\n",
              "    }\n",
              "\n",
              "    .dataframe thead th {\n",
              "        text-align: right;\n",
              "    }\n",
              "</style>\n",
              "<table border=\"1\" class=\"dataframe\">\n",
              "  <thead>\n",
              "    <tr style=\"text-align: right;\">\n",
              "      <th></th>\n",
              "      <th>year</th>\n",
              "      <th>gnp</th>\n",
              "      <th>invest</th>\n",
              "      <th>cpi</th>\n",
              "      <th>interest</th>\n",
              "    </tr>\n",
              "  </thead>\n",
              "  <tbody>\n",
              "    <tr>\n",
              "      <th>0</th>\n",
              "      <td>1968</td>\n",
              "      <td>873.4</td>\n",
              "      <td>133.3</td>\n",
              "      <td>82.54</td>\n",
              "      <td>5.16</td>\n",
              "    </tr>\n",
              "    <tr>\n",
              "      <th>1</th>\n",
              "      <td>1969</td>\n",
              "      <td>944.0</td>\n",
              "      <td>149.3</td>\n",
              "      <td>86.79</td>\n",
              "      <td>5.87</td>\n",
              "    </tr>\n",
              "    <tr>\n",
              "      <th>2</th>\n",
              "      <td>1970</td>\n",
              "      <td>992.7</td>\n",
              "      <td>144.2</td>\n",
              "      <td>91.45</td>\n",
              "      <td>5.95</td>\n",
              "    </tr>\n",
              "    <tr>\n",
              "      <th>3</th>\n",
              "      <td>1971</td>\n",
              "      <td>1077.6</td>\n",
              "      <td>166.4</td>\n",
              "      <td>96.01</td>\n",
              "      <td>4.88</td>\n",
              "    </tr>\n",
              "    <tr>\n",
              "      <th>4</th>\n",
              "      <td>1972</td>\n",
              "      <td>1185.9</td>\n",
              "      <td>195.0</td>\n",
              "      <td>100.00</td>\n",
              "      <td>4.50</td>\n",
              "    </tr>\n",
              "    <tr>\n",
              "      <th>5</th>\n",
              "      <td>1973</td>\n",
              "      <td>1326.4</td>\n",
              "      <td>229.8</td>\n",
              "      <td>105.75</td>\n",
              "      <td>6.44</td>\n",
              "    </tr>\n",
              "    <tr>\n",
              "      <th>6</th>\n",
              "      <td>1974</td>\n",
              "      <td>1434.2</td>\n",
              "      <td>228.7</td>\n",
              "      <td>115.08</td>\n",
              "      <td>7.83</td>\n",
              "    </tr>\n",
              "    <tr>\n",
              "      <th>7</th>\n",
              "      <td>1975</td>\n",
              "      <td>1549.2</td>\n",
              "      <td>206.1</td>\n",
              "      <td>125.79</td>\n",
              "      <td>6.25</td>\n",
              "    </tr>\n",
              "    <tr>\n",
              "      <th>8</th>\n",
              "      <td>1976</td>\n",
              "      <td>1718.0</td>\n",
              "      <td>257.9</td>\n",
              "      <td>132.34</td>\n",
              "      <td>5.50</td>\n",
              "    </tr>\n",
              "    <tr>\n",
              "      <th>9</th>\n",
              "      <td>1977</td>\n",
              "      <td>1918.3</td>\n",
              "      <td>324.1</td>\n",
              "      <td>140.05</td>\n",
              "      <td>5.46</td>\n",
              "    </tr>\n",
              "    <tr>\n",
              "      <th>10</th>\n",
              "      <td>1978</td>\n",
              "      <td>2163.9</td>\n",
              "      <td>386.6</td>\n",
              "      <td>150.42</td>\n",
              "      <td>7.46</td>\n",
              "    </tr>\n",
              "    <tr>\n",
              "      <th>11</th>\n",
              "      <td>1979</td>\n",
              "      <td>2417.8</td>\n",
              "      <td>423.0</td>\n",
              "      <td>163.42</td>\n",
              "      <td>10.28</td>\n",
              "    </tr>\n",
              "    <tr>\n",
              "      <th>12</th>\n",
              "      <td>1980</td>\n",
              "      <td>2633.1</td>\n",
              "      <td>402.3</td>\n",
              "      <td>178.64</td>\n",
              "      <td>11.77</td>\n",
              "    </tr>\n",
              "    <tr>\n",
              "      <th>13</th>\n",
              "      <td>1981</td>\n",
              "      <td>2937.7</td>\n",
              "      <td>471.5</td>\n",
              "      <td>195.51</td>\n",
              "      <td>13.42</td>\n",
              "    </tr>\n",
              "    <tr>\n",
              "      <th>14</th>\n",
              "      <td>1982</td>\n",
              "      <td>3057.5</td>\n",
              "      <td>421.9</td>\n",
              "      <td>207.23</td>\n",
              "      <td>11.02</td>\n",
              "    </tr>\n",
              "  </tbody>\n",
              "</table>\n",
              "</div>"
            ],
            "text/plain": [
              "    year     gnp  invest     cpi  interest\n",
              "0   1968   873.4   133.3   82.54      5.16\n",
              "1   1969   944.0   149.3   86.79      5.87\n",
              "2   1970   992.7   144.2   91.45      5.95\n",
              "3   1971  1077.6   166.4   96.01      4.88\n",
              "4   1972  1185.9   195.0  100.00      4.50\n",
              "5   1973  1326.4   229.8  105.75      6.44\n",
              "6   1974  1434.2   228.7  115.08      7.83\n",
              "7   1975  1549.2   206.1  125.79      6.25\n",
              "8   1976  1718.0   257.9  132.34      5.50\n",
              "9   1977  1918.3   324.1  140.05      5.46\n",
              "10  1978  2163.9   386.6  150.42      7.46\n",
              "11  1979  2417.8   423.0  163.42     10.28\n",
              "12  1980  2633.1   402.3  178.64     11.77\n",
              "13  1981  2937.7   471.5  195.51     13.42\n",
              "14  1982  3057.5   421.9  207.23     11.02"
            ]
          },
          "execution_count": 296,
          "metadata": {},
          "output_type": "execute_result"
        }
      ],
      "source": [
        "data=pd.read_csv('https://bitbucket.org/portierf/shared_files/downloads/invest.txt',sep=\" \")\n",
        "data"
      ]
    },
    {
      "cell_type": "markdown",
      "id": "944cac53",
      "metadata": {
        "id": "944cac53"
      },
      "source": [
        "### Question 2\n",
        "Réaliser le graphe suivant : la variable “Gross National Product” (GNP, column “gnp”) est en\n",
        "abscisse et la variable “Investment” (column “invest”) est en ordonnée. Transformer les 2 variables\n",
        "précédentes en échelle logarithmique. Nous travaillerons désormais avec les 2 nouvelles variables."
      ]
    },
    {
      "cell_type": "code",
      "execution_count": null,
      "id": "4f22378b",
      "metadata": {
        "id": "4f22378b",
        "outputId": "dcb790ca-2bf2-48f1-b424-ce2d89badde5"
      },
      "outputs": [
        {
          "data": {
            "text/plain": [
              "<AxesSubplot:xlabel='gnp'>"
            ]
          },
          "execution_count": 297,
          "metadata": {},
          "output_type": "execute_result"
        },
        {
          "data": {
            "image/png": "[encoded data removed]",
            "text/plain": [
              "<Figure size 432x288 with 1 Axes>"
            ]
          },
          "metadata": {
            "needs_background": "light"
          },
          "output_type": "display_data"
        }
      ],
      "source": [
        "data.plot(\"gnp\",\"invest\")"
      ]
    },
    {
      "cell_type": "code",
      "execution_count": null,
      "id": "cfb6b744",
      "metadata": {
        "id": "cfb6b744"
      },
      "outputs": [],
      "source": [
        "data[\"invest\"]=np.log(data[\"invest\"])\n",
        "data[\"gnp\"]=np.log(data[\"gnp\"])"
      ]
    },
    {
      "cell_type": "code",
      "execution_count": null,
      "id": "be1a3ab7",
      "metadata": {
        "id": "be1a3ab7",
        "outputId": "225d9aae-b87c-4135-ae71-8f06997f7ae2"
      },
      "outputs": [
        {
          "data": {
            "text/html": [
              "<div>\n",
              "<style scoped>\n",
              "    .dataframe tbody tr th:only-of-type {\n",
              "        vertical-align: middle;\n",
              "    }\n",
              "\n",
              "    .dataframe tbody tr th {\n",
              "        vertical-align: top;\n",
              "    }\n",
              "\n",
              "    .dataframe thead th {\n",
              "        text-align: right;\n",
              "    }\n",
              "</style>\n",
              "<table border=\"1\" class=\"dataframe\">\n",
              "  <thead>\n",
              "    <tr style=\"text-align: right;\">\n",
              "      <th></th>\n",
              "      <th>year</th>\n",
              "      <th>gnp</th>\n",
              "      <th>invest</th>\n",
              "      <th>cpi</th>\n",
              "      <th>interest</th>\n",
              "    </tr>\n",
              "  </thead>\n",
              "  <tbody>\n",
              "    <tr>\n",
              "      <th>0</th>\n",
              "      <td>1968</td>\n",
              "      <td>6.772394</td>\n",
              "      <td>4.892602</td>\n",
              "      <td>82.54</td>\n",
              "      <td>5.16</td>\n",
              "    </tr>\n",
              "    <tr>\n",
              "      <th>1</th>\n",
              "      <td>1969</td>\n",
              "      <td>6.850126</td>\n",
              "      <td>5.005958</td>\n",
              "      <td>86.79</td>\n",
              "      <td>5.87</td>\n",
              "    </tr>\n",
              "    <tr>\n",
              "      <th>2</th>\n",
              "      <td>1970</td>\n",
              "      <td>6.900429</td>\n",
              "      <td>4.971201</td>\n",
              "      <td>91.45</td>\n",
              "      <td>5.95</td>\n",
              "    </tr>\n",
              "    <tr>\n",
              "      <th>3</th>\n",
              "      <td>1971</td>\n",
              "      <td>6.982492</td>\n",
              "      <td>5.114395</td>\n",
              "      <td>96.01</td>\n",
              "      <td>4.88</td>\n",
              "    </tr>\n",
              "    <tr>\n",
              "      <th>4</th>\n",
              "      <td>1972</td>\n",
              "      <td>7.078257</td>\n",
              "      <td>5.273000</td>\n",
              "      <td>100.00</td>\n",
              "      <td>4.50</td>\n",
              "    </tr>\n",
              "    <tr>\n",
              "      <th>5</th>\n",
              "      <td>1973</td>\n",
              "      <td>7.190224</td>\n",
              "      <td>5.437209</td>\n",
              "      <td>105.75</td>\n",
              "      <td>6.44</td>\n",
              "    </tr>\n",
              "    <tr>\n",
              "      <th>6</th>\n",
              "      <td>1974</td>\n",
              "      <td>7.268362</td>\n",
              "      <td>5.432411</td>\n",
              "      <td>115.08</td>\n",
              "      <td>7.83</td>\n",
              "    </tr>\n",
              "    <tr>\n",
              "      <th>7</th>\n",
              "      <td>1975</td>\n",
              "      <td>7.345494</td>\n",
              "      <td>5.328361</td>\n",
              "      <td>125.79</td>\n",
              "      <td>6.25</td>\n",
              "    </tr>\n",
              "    <tr>\n",
              "      <th>8</th>\n",
              "      <td>1976</td>\n",
              "      <td>7.448916</td>\n",
              "      <td>5.552572</td>\n",
              "      <td>132.34</td>\n",
              "      <td>5.50</td>\n",
              "    </tr>\n",
              "    <tr>\n",
              "      <th>9</th>\n",
              "      <td>1977</td>\n",
              "      <td>7.559195</td>\n",
              "      <td>5.781052</td>\n",
              "      <td>140.05</td>\n",
              "      <td>5.46</td>\n",
              "    </tr>\n",
              "    <tr>\n",
              "      <th>10</th>\n",
              "      <td>1978</td>\n",
              "      <td>7.679667</td>\n",
              "      <td>5.957391</td>\n",
              "      <td>150.42</td>\n",
              "      <td>7.46</td>\n",
              "    </tr>\n",
              "    <tr>\n",
              "      <th>11</th>\n",
              "      <td>1979</td>\n",
              "      <td>7.790613</td>\n",
              "      <td>6.047372</td>\n",
              "      <td>163.42</td>\n",
              "      <td>10.28</td>\n",
              "    </tr>\n",
              "    <tr>\n",
              "      <th>12</th>\n",
              "      <td>1980</td>\n",
              "      <td>7.875917</td>\n",
              "      <td>5.997198</td>\n",
              "      <td>178.64</td>\n",
              "      <td>11.77</td>\n",
              "    </tr>\n",
              "    <tr>\n",
              "      <th>13</th>\n",
              "      <td>1981</td>\n",
              "      <td>7.985382</td>\n",
              "      <td>6.155919</td>\n",
              "      <td>195.51</td>\n",
              "      <td>13.42</td>\n",
              "    </tr>\n",
              "    <tr>\n",
              "      <th>14</th>\n",
              "      <td>1982</td>\n",
              "      <td>8.025353</td>\n",
              "      <td>6.044768</td>\n",
              "      <td>207.23</td>\n",
              "      <td>11.02</td>\n",
              "    </tr>\n",
              "  </tbody>\n",
              "</table>\n",
              "</div>"
            ],
            "text/plain": [
              "    year       gnp    invest     cpi  interest\n",
              "0   1968  6.772394  4.892602   82.54      5.16\n",
              "1   1969  6.850126  5.005958   86.79      5.87\n",
              "2   1970  6.900429  4.971201   91.45      5.95\n",
              "3   1971  6.982492  5.114395   96.01      4.88\n",
              "4   1972  7.078257  5.273000  100.00      4.50\n",
              "5   1973  7.190224  5.437209  105.75      6.44\n",
              "6   1974  7.268362  5.432411  115.08      7.83\n",
              "7   1975  7.345494  5.328361  125.79      6.25\n",
              "8   1976  7.448916  5.552572  132.34      5.50\n",
              "9   1977  7.559195  5.781052  140.05      5.46\n",
              "10  1978  7.679667  5.957391  150.42      7.46\n",
              "11  1979  7.790613  6.047372  163.42     10.28\n",
              "12  1980  7.875917  5.997198  178.64     11.77\n",
              "13  1981  7.985382  6.155919  195.51     13.42\n",
              "14  1982  8.025353  6.044768  207.23     11.02"
            ]
          },
          "execution_count": 299,
          "metadata": {},
          "output_type": "execute_result"
        }
      ],
      "source": [
        "data"
      ]
    },
    {
      "cell_type": "markdown",
      "id": "3c3a5930",
      "metadata": {
        "id": "3c3a5930"
      },
      "source": [
        "NOTE : Lorsque l’on traite des données monétaires, on travaille souvent en échelle logarithmique (pour\n",
        "prendre en compte les différences d’échelle).\n",
        "Les questions suivantes (3 à 6) doivent être réalisées par l’intermédiaire d’opérations élémentaires,\n",
        "sans utiliser de librairies existantes.\n",
        "\n",
        "### Question 3 \n",
        "Pour la régression de ”Investment” (variable à expliquer, output) sur ”GNP” (variable explicative,\n",
        "covariable), estimer l’intercept et la pente, leurs écart-types, ainsi que le coefficient de détermination.\n",
        "Les afficher dans une forme lisible."
      ]
    },
    {
      "cell_type": "markdown",
      "id": "a1238972",
      "metadata": {
        "id": "a1238972"
      },
      "source": [
        "### Équation Normale: \n",
        "\\begin{equation}\n",
        "Z^T Z\\hat{\\theta} = Z^TY\n",
        "\\end{equation}"
      ]
    },
    {
      "cell_type": "code",
      "execution_count": null,
      "id": "7f081bb7",
      "metadata": {
        "id": "7f081bb7"
      },
      "outputs": [],
      "source": [
        "X=np.array(data[\"gnp\"])\n",
        "Y=np.array(data[\"invest\"])\n",
        "X=np.reshape(X,((len(X),1)))\n",
        "\n",
        "## Fonction de concaténation de nos variables avec le vecteur de ones\n",
        "\n",
        "def zezons(X):\n",
        "    x=len(X)\n",
        "    ones=np.ones((x,1))\n",
        "    #print(x)\n",
        "    return np.concatenate((ones,X),axis=1)\n",
        "\n",
        "z=zezons(X)"
      ]
    },
    {
      "cell_type": "code",
      "execution_count": null,
      "id": "7caaffce",
      "metadata": {
        "id": "7caaffce",
        "outputId": "0a29feb1-c66f-4d4b-dd70-ae8a0d56bd2c"
      },
      "outputs": [
        {
          "name": "stdout",
          "output_type": "stream",
          "text": [
            "Les valeurs de l'estimateur : ( Intercept :  -1.9635913352312762 et la pente :  1.0152814015990048 )\n"
          ]
        }
      ],
      "source": [
        "theta=np.linalg.inv(z.transpose().dot(z)).dot(z.transpose()).dot(Y)\n",
        "print(\"Les valeurs de l'estimateur : ( Intercept : \",theta[0],\"et la pente : \",theta[1],\")\")"
      ]
    },
    {
      "cell_type": "code",
      "execution_count": null,
      "id": "e180d672",
      "metadata": {
        "id": "e180d672",
        "outputId": "a9362e2a-fa11-455e-dc52-a4a7c329c5b4"
      },
      "outputs": [
        {
          "name": "stdout",
          "output_type": "stream",
          "text": [
            "L'écart-type de theta_0 est = 0.4095472716623085\n",
            "L'écart-type de theta_1 est = 0.05538306035485286\n",
            "La valeur du coefficient de détermination est  0.9627572956057855\n"
          ]
        }
      ],
      "source": [
        "### Écart-types et coefficients de détermination\n",
        "\n",
        "# Calcul de Ypred\n",
        "\n",
        "Ypred=X*theta[1] + theta[0]\n",
        "data[\"invest_pred\"]=Ypred\n",
        "\n",
        "# Calcul de l'écart-type\n",
        "\n",
        "X = data['gnp'].to_numpy().reshape(-1,1)\n",
        "y = data['invest'].to_numpy().reshape(-1,1)\n",
        "\n",
        "matrix_of_ones = np.ones((X.shape))\n",
        "\n",
        "Z = np.concatenate((matrix_of_ones, X), axis=1)\n",
        "\n",
        "def sigma_square(y, Z, theta, n):\n",
        "    rank = np.linalg.matrix_rank(Z)\n",
        "    norm = np.linalg.norm(y - Z.dot(theta))\n",
        "    return norm**2 / (n - rank)\n",
        "n = len(X)\n",
        "X_bar = np.mean(X)\n",
        "denum = np.sum((X - X_bar)**2)\n",
        "sig_square = sigma_square(y, Z, thetas, len(y))\n",
        "\n",
        "ecart_type_theta_0 = np.sqrt(sig_square * ( (1 / n) + X_bar**2 / denum ))\n",
        "ecart_type_theta_1 = np.sqrt(sig_square / denum)\n",
        "print('L\\'écart-type de theta_0 est = ' + str(ecart_type_theta_0) + \\\n",
        "      '\\nL\\'écart-type de theta_1 est = ' + str(ecart_type_theta_1))\n",
        "\n",
        "\n",
        "#print(Ypred.shape)\n",
        "Ypred=np.reshape(Ypred,len(Y))\n",
        "#print(Ypred.shape)\n",
        "## calcul du coefficient de determinations\n",
        "\n",
        "ssres=np.sum((Y-Ypred)**2)\n",
        "sstos=np.sum((Y-np.mean(Y))**2)\n",
        "r2s=1-ssres/sstos\n",
        "\n",
        "print(\"La valeur du coefficient de détermination est \",r2s)\n"
      ]
    },
    {
      "cell_type": "markdown",
      "id": "e25d6463",
      "metadata": {
        "id": "e25d6463"
      },
      "source": [
        "### Question 4\n",
        "La pente estimée précédemment est-elle statistiquement significative ? On fera un test de student\n",
        "(t-test). Donner la valeur de la statistique de test ainsi que la p-valeur."
      ]
    },
    {
      "cell_type": "markdown",
      "id": "45320d6b",
      "metadata": {
        "id": "45320d6b"
      },
      "source": [
        "### La $T_{statistique}$ se calcule à l'aide de la formule\n",
        "\\begin{equation}\n",
        "\\hat{T_j} := \\frac{\\sqrt{n} \\hat{\\theta_j}}{\\sqrt{\\hat{\\sigma}^2 (\\hat{G}^{-1})_{j,j}}} ∼ T_{n-rang(Z)}\n",
        "\\end{equation}"
      ]
    },
    {
      "cell_type": "code",
      "execution_count": null,
      "id": "4f977a0e",
      "metadata": {
        "id": "4f977a0e"
      },
      "outputs": [],
      "source": [
        "def calcul_g(z,n):\n",
        "    return ((z.T.dot(z)).dot(1.0/n))\n",
        "\n",
        "def sigma2(y,theta,z,n):\n",
        "    r=np.linalg.matrix_rank(z)\n",
        "    norm=(np.linalg.norm(y-z.dot(theta))**2)\n",
        "    return norm/(n-r)\n",
        "\n",
        "      \n",
        "def stat(theta,g,sigma,n):\n",
        "    num=(math.sqrt(n))*theta\n",
        "    denum=math.sqrt(sigma*g)\n",
        "    return (num/denum)"
      ]
    },
    {
      "cell_type": "code",
      "execution_count": null,
      "id": "1a1bf9f6",
      "metadata": {
        "id": "1a1bf9f6",
        "outputId": "ec12c05c-15f9-4c86-a008-3723eec690d4"
      },
      "outputs": [
        {
          "name": "stdout",
          "output_type": "stream",
          "text": [
            "[18.33198445686759]\n"
          ]
        }
      ],
      "source": [
        "import math\n",
        "g_1=np.linalg.inv(calcul_g(z,len(Y)))\n",
        "tstat=[]\n",
        "Y=np.reshape(Y,len(Y))\n",
        "\n",
        "sigma=sigma2(Y,theta,z,len(Y))\n",
        "\n",
        "tstat.append(stat(theta[1],g_1[1][1],sigma,len(Y)))\n",
        "print(tstat)"
      ]
    },
    {
      "cell_type": "code",
      "execution_count": null,
      "id": "e3712da8",
      "metadata": {
        "id": "e3712da8",
        "outputId": "5b39fada-4bb2-42ed-d1cd-7b0b5a54a65c"
      },
      "outputs": [
        {
          "name": "stdout",
          "output_type": "stream",
          "text": [
            "La valeur du test statistique est :  18.33198445686759  et la p-values est :  1.1363709973011282e-10 avec un degré de test de Student de: 13\n"
          ]
        }
      ],
      "source": [
        "from scipy import stats\n",
        "\n",
        "p=2*(1-stats.t.cdf(tstat,13))\n",
        "print(\"La valeur du test statistique est : \", tstat[0],\" et la p-values est : \",p[0],\\\n",
        "      \"avec un degré de test de Student de:\",len(Y)-2)"
      ]
    },
    {
      "cell_type": "markdown",
      "id": "67f4fdc7",
      "metadata": {
        "id": "67f4fdc7"
      },
      "source": [
        "La valeur de notre p-value est $\\textbf{1.1363709973011282e-10}$\n",
        "\n",
        "Une p-value très petite signifie que la probabilté de faire une erreur en rejetant lhypothèse de départ (# theta1=0 #)\n",
        "est faible.\n",
        "On en déduit que l'hypothèse de départ peut etre rejetée et donc $\\textbf{la nullité de notre coefficient theta1 est rejetée.}$"
      ]
    },
    {
      "cell_type": "markdown",
      "id": "1b60d6a3",
      "metadata": {
        "id": "1b60d6a3"
      },
      "source": [
        "### Question 5\n",
        "Pour GNP égal à 1000, estimer l’investissement prédit par le modèle. \n",
        "Pour GNP égal à 1000, donner l’intervalle de confiance pour la valeur prédite et l’intervalle de confiance pour la variable à expliquer “Investment”, au niveau 90%. On pourra se référer à la section 3.1.3 “Confidence intervals\n",
        "for the predicted values” du polycopié dans laquelle chaque intervalle est défini, CIpzq et PIpzq,\n",
        "respectivement (avec les notations du polycopié, z “ p1, 1000qT)."
      ]
    },
    {
      "cell_type": "code",
      "execution_count": null,
      "id": "056c4a2d",
      "metadata": {
        "id": "056c4a2d",
        "outputId": "d3ecf7c6-0581-495e-e204-b8d20f278b4f"
      },
      "outputs": [
        {
          "name": "stdout",
          "output_type": "stream",
          "text": [
            "6.907755278982137\n"
          ]
        }
      ],
      "source": [
        "t1=theta[1]\n",
        "t0=theta[0]\n",
        "liste=[]\n",
        "\n",
        "## Notre valeur 1000 dans d\n",
        "d=np.log(1000)\n",
        "liste.append(d)\n",
        "liste=np.reshape(liste,(len(liste),1))\n",
        "\n",
        "# Concaténation avec In\n",
        "zz=zezons(liste)\n",
        "zz=zz.T\n",
        "print(d)\n",
        "val=theta*zz\n"
      ]
    },
    {
      "cell_type": "markdown",
      "id": "a95e01e3",
      "metadata": {
        "id": "a95e01e3"
      },
      "source": [
        "### Formule de calcul pour l'intervalle de confiance\n",
        "\\begin{equation}\n",
        "CI(z) = z^T\\hat{\\theta} \\pm t_{n - p - 1} (1 - \\alpha / 2) \\hat{\\sigma}\\sqrt{z^T (Z^TZ)^{-1} z}\n",
        "\\end{equation}"
      ]
    },
    {
      "cell_type": "code",
      "execution_count": null,
      "id": "1d5e5cdb",
      "metadata": {
        "id": "1d5e5cdb",
        "outputId": "1dbc82bf-a0c4-41d4-d59f-f483f5a33f80"
      },
      "outputs": [
        {
          "name": "stdout",
          "output_type": "stream",
          "text": [
            "1.7709333959867988\n",
            "0.08761471654613975\n",
            "L'intervalle de confiance CI est [ 4.988222845970939 , 5.111225406662327 ] \n"
          ]
        }
      ],
      "source": [
        "ts=stats.t.ppf(1-0.05,13)\n",
        "print(ts)\n",
        "Z_to_predict=zz.T\n",
        "\n",
        "sq=np.sqrt(zz.T.dot(np.linalg.inv(z.T.dot(z))).dot(zz))\n",
        "\n",
        "sig=np.sqrt(sigma)\n",
        "print(sig)\n",
        "## Calcul des bornes de l'intervalle de confiance\n",
        "\n",
        "high=zz.T.dot(theta)+ ts*sig*sq\n",
        "low=zz.T.dot(theta)- ts*sig*sq\n",
        "\n",
        "print(\"L'intervalle de confiance CI est [\",low[0][0],\",\",high[0][0] ,\"] \")"
      ]
    },
    {
      "cell_type": "markdown",
      "id": "d1464217",
      "metadata": {
        "id": "d1464217"
      },
      "source": [
        "### Formule de calcul pour l'intervalle de prédiction\n",
        "\\begin{equation}\n",
        "PI(z) = z^T\\hat{\\theta} \\pm t_{n - p - 1} (1 - \\alpha / 2) \\hat{\\sigma}\\sqrt{1 + z^T (Z^TZ)^{-1} z}\n",
        "\\end{equation}"
      ]
    },
    {
      "cell_type": "code",
      "execution_count": null,
      "id": "4b4cfa8d",
      "metadata": {
        "id": "4b4cfa8d",
        "outputId": "a60040ca-42a4-426e-fa8b-d4926a229d1e"
      },
      "outputs": [
        {
          "name": "stdout",
          "output_type": "stream",
          "text": [
            "L'intervalle de confiance PI est [ 4.882820023438511 , 5.216628229194755 ] \n"
          ]
        }
      ],
      "source": [
        "sq=np.sqrt(1+ zz.T.dot(np.linalg.inv(z.T.dot(z))).dot(zz))\n",
        "\n",
        "sig=np.sqrt(sigma)\n",
        "\n",
        "## Calcul des bornes de l'intervalle de confiance\n",
        "\n",
        "high=zz.T.dot(theta)+ ts*sig*sq\n",
        "low=zz.T.dot(theta)- ts*sig*sq\n",
        "\n",
        "print(\"L'intervalle de confiance PI est [\",low[0][0],\",\",high[0][0] ,\"] \")"
      ]
    },
    {
      "cell_type": "markdown",
      "id": "02a0411c",
      "metadata": {
        "id": "02a0411c"
      },
      "source": [
        "### Question 6 \n",
        "Sur un graphe avec échelle logarithmique, avec GNP en abscisse et investment en ordonnée, tracer\n",
        "les données, la droite de régression, ainsi que les intervalle CI et PI (pour toutes les valeurs de\n",
        "log(GNP) comprises entre le maximum et le minimum observé sur les données)"
      ]
    },
    {
      "cell_type": "code",
      "execution_count": null,
      "id": "6d9694c0",
      "metadata": {
        "id": "6d9694c0"
      },
      "outputs": [],
      "source": [
        "\n",
        "\n",
        "def confidance_interval(t, z, Z, thetas, sigma_square):\n",
        "    start = (z.T.dot(thetas))\n",
        "    end = t * math.sqrt(sigma_square) * \\\n",
        "          np.sqrt(z.T.dot(np.linalg.inv(Z.T.dot(Z))).dot(z))\n",
        "    low = start - end\n",
        "    high = start + end\n",
        "    return low[0][0], high[0][0]\n",
        "\n",
        "def prediction_interval(t, z, Z, thetas, sigma_square):\n",
        "    start = (z.T.dot(thetas))\n",
        "    end = t * math.sqrt(sigma_square) * \\\n",
        "          np.sqrt(1 + z.T.dot(np.linalg.inv(Z.T.dot(Z))).dot(z))\n",
        "    low = start - end\n",
        "    high = start + end\n",
        "    return low[0][0], high[0][0]\n",
        "\n",
        "def sigma_square(y, Z, theta, n):\n",
        "    rank = np.linalg.matrix_rank(Z)\n",
        "    norm = np.linalg.norm(y - Z.dot(theta))\n",
        "    return norm**2 / (n - rank)"
      ]
    },
    {
      "cell_type": "code",
      "execution_count": null,
      "id": "d9ac5e1e",
      "metadata": {
        "id": "d9ac5e1e",
        "outputId": "098b4280-46e8-45bc-dccc-10d7422fc4ef"
      },
      "outputs": [
        {
          "data": {
            "image/png": "[encoded data removed]",
            "text/plain": [
              "<Figure size 576x360 with 1 Axes>"
            ]
          },
          "metadata": {
            "needs_background": "light"
          },
          "output_type": "display_data"
        }
      ],
      "source": [
        "\n",
        "plt.figure(figsize=(8,5))\n",
        "ax = plt.axes()\n",
        "\n",
        "ax.scatter(X, Y)\n",
        "ax.plot(X, Y)\n",
        "plt.show()\n"
      ]
    },
    {
      "cell_type": "code",
      "execution_count": null,
      "id": "ba68e7bf",
      "metadata": {
        "id": "ba68e7bf",
        "outputId": "5620ffb2-1641-4f50-cc67-1dd3cf39b1e5"
      },
      "outputs": [
        {
          "name": "stdout",
          "output_type": "stream",
          "text": [
            "L'écart-type de theta_0 est = 0.4095472716623085\n",
            "L'écart-type de theta_1 est = 0.05538306035485286\n"
          ]
        }
      ],
      "source": [
        "X = data['gnp'].to_numpy().reshape(-1,1)\n",
        "y = data['invest'].to_numpy().reshape(-1,1)\n",
        "\n",
        "matrix_of_ones = np.ones((X.shape))\n",
        "\n",
        "Z = np.concatenate((matrix_of_ones, X), axis=1)\n",
        "\n",
        "def sigma_square(y, Z, theta, n):\n",
        "    rank = np.linalg.matrix_rank(Z)\n",
        "    norm = np.linalg.norm(y - Z.dot(theta))\n",
        "    return norm**2 / (n - rank)\n",
        "\n",
        "thetas = np.linalg.inv(Z.transpose().dot(Z)).dot(Z.transpose()).dot(y)\n",
        "n = len(X)\n",
        "X_bar = np.mean(X)\n",
        "denum = np.sum((X - X_bar)**2)\n",
        "sig_square = sigma_square(y, Z, thetas, len(y))\n",
        "\n",
        "ecart_type_theta_0 = np.sqrt(sig_square * ( (1 / n) + X_bar**2 / denum ))\n",
        "ecart_type_theta_1 = np.sqrt(sig_square / denum)\n",
        "print('L\\'écart-type de theta_0 est = ' + str(ecart_type_theta_0) + \\\n",
        "      '\\nL\\'écart-type de theta_1 est = ' + str(ecart_type_theta_1))"
      ]
    },
    {
      "cell_type": "code",
      "execution_count": null,
      "id": "458eb115",
      "metadata": {
        "id": "458eb115",
        "outputId": "c0c593e5-bb10-414f-ef02-5aa4d8986e0e"
      },
      "outputs": [
        {
          "data": {
            "image/png": "[encoded data removed]",
            "text/plain": [
              "<Figure size 432x288 with 1 Axes>"
            ]
          },
          "metadata": {
            "needs_background": "light"
          },
          "output_type": "display_data"
        }
      ],
      "source": [
        "xs = np.linspace(np.min(X), np.max(X), 50)\n",
        "thetas = np.linalg.inv(Z.transpose().dot(Z)).dot(Z.transpose()).dot(y)\n",
        "\n",
        "theta_0 = thetas[0][0]\n",
        "theta_1 = thetas[1][0]\n",
        "\n",
        "#theta_0 = theta[0]#[0]\n",
        "#theta_1 = theta[1]#[0]\n",
        "ys = theta_0 + theta_1 * xs\n",
        "#y=Y\n",
        "\n",
        "n = len(X)\n",
        "X_bar = np.mean(X)\n",
        "denum = np.sum((X - X_bar)**2)\n",
        "sig_square = sigma_square(y, Z, thetas, len(y))\n",
        "\n",
        "plt.figure()\n",
        "plt.scatter(X, y, label='Invest data')\n",
        "plt.plot(xs, ys, c='k', label='Droite de régression')\n",
        "t = stats.t.ppf((1 - 0.1 / 2), len(y) - np.linalg.matrix_rank(Z))\n",
        "#Affichage de l'intervalle de confiance\n",
        "ys_min_conf = []\n",
        "ys_max_conf = []\n",
        "for x in xs:\n",
        "    z1 = np.asarray([[1.0, x]]).T\n",
        "    x_min, x_max = confidance_interval(t, z1, Z, thetas, sig_square)\n",
        "    ys_min_conf.append(x_min)\n",
        "    ys_max_conf.append(x_max)\n",
        "plt.plot(xs, ys_min_conf, 'g--', label='Intervalle de confiance')\n",
        "plt.plot(xs, ys_max_conf, 'g--')\n",
        "\n",
        "#Affichage de l'intervalle de prédiction\n",
        "ys_min_conf = []\n",
        "ys_max_conf = []\n",
        "for x in xs:\n",
        "    z1 = np.asarray([[1.0, x]]).reshape(-1, 1)#.T\n",
        "    x_min, x_max = prediction_interval(t, z1, Z, thetas, sig_square)\n",
        "    ys_min_conf.append(x_min)\n",
        "    ys_max_conf.append(x_max)\n",
        "    \n",
        "plt.plot(xs, ys_min_conf, 'r--', label='Intervalle de prédiction')\n",
        "plt.plot(xs, ys_max_conf, 'r--')\n",
        "\n",
        "plt.title('Investment data (logarithmique)')\n",
        "plt.xlabel('log(GNP)')\n",
        "plt.ylabel('log(Investment)')\n",
        "plt.legend(bbox_to_anchor=(0,1), loc='upper left')\n",
        "plt.show()"
      ]
    },
    {
      "cell_type": "markdown",
      "id": "a76cf20e",
      "metadata": {
        "id": "a76cf20e"
      },
      "source": [
        "### Question 7 \n",
        "En utilisant des classes/librairies existantes, donner l’intercept, la pente, le coefficient de détermination ainsi que l’investissement prédit par le modèle quand GNP vaut 1000. La classe\n",
        "LinearRegression() de sklearn.linear_model est suggérée mais pas obligatoire. Vérifier que\n",
        "les valeurs calculées ici coïncident avec celles des questions précédentes."
      ]
    },
    {
      "cell_type": "code",
      "execution_count": null,
      "id": "fca2cd33",
      "metadata": {
        "id": "fca2cd33",
        "outputId": "d20d6b5a-bc45-4e24-d7e1-32728e276799"
      },
      "outputs": [
        {
          "name": "stdout",
          "output_type": "stream",
          "text": [
            "[4.89260223 5.0059577  4.97120122 5.11439453 5.27299956 5.43720937\n",
            " 5.4324111  5.32836149 5.55257191 5.78105211 5.95739057 6.04737218\n",
            " 5.99719808 6.1559191  6.04476832]\n",
            "Avec le modèle Sklearn, le coefficient de détermination est : 0.9627572956057856 , la valeur de l'intercept theta0 est : -1.9635913352301806 la valeur de la pente theta1 est :  1.0152814015988705 \n",
            "\n",
            "Avec les calculs élémentaires, le coefficient de détermination est : 0.9627572956057855 , la valeur de l'intercept theta0 est : -1.9635913352312762 la valeur de la pente theta1 est :  1.0152814015990048\n",
            "[5.04972413]\n"
          ]
        }
      ],
      "source": [
        "## Régression avec sklearn\n",
        "print(Y)\n",
        "reg=LinearRegression().fit(z,Y)\n",
        "print(\"Avec le modèle Sklearn, le coefficient de détermination est :\",reg.score(z,Y),\", la valeur de l'intercept theta0 est :\",\\\n",
        "      reg.intercept_,\"la valeur de la pente theta1 est : \",reg.coef_[1],\"\\n\")\n",
        "\n",
        "\n",
        "print(\"Avec les calculs élémentaires, le coefficient de détermination est :\",r2s,\", la valeur de l'intercept theta0 est :\",\\\n",
        "      t0,\"la valeur de la pente theta1 est : \",t1)\n",
        "\n",
        "\n",
        "d1=np.log(1000)\n",
        "val=reg.predict([[1,d1]])\n",
        "print(val)\n"
      ]
    },
    {
      "cell_type": "markdown",
      "id": "83372cd2",
      "metadata": {
        "id": "83372cd2"
      },
      "source": [
        "On retrouve donc les valeurs obtenues précédemment."
      ]
    },
    {
      "cell_type": "markdown",
      "id": "a882e8b0",
      "metadata": {
        "id": "a882e8b0"
      },
      "source": [
        "### Question 8\n",
        "Sur un graphe avec échelle logarithmique, avec GNP en abscisse et investment en ordonnée, tracer\n",
        "les données, la droite de régression, ainsi que l’investissement prédit par le modèle quand GNP vaut\n",
        "1000 (on donnera à ce point une couleur différente)."
      ]
    },
    {
      "cell_type": "code",
      "execution_count": null,
      "id": "c5fafa0f",
      "metadata": {
        "id": "c5fafa0f",
        "outputId": "ef800047-5ddf-4a4f-d683-2dbb48b189d9"
      },
      "outputs": [
        {
          "name": "stdout",
          "output_type": "stream",
          "text": [
            "5.049724126316633\n"
          ]
        },
        {
          "data": {
            "image/png": "[encoded data removed]",
            "text/plain": [
              "<Figure size 720x432 with 1 Axes>"
            ]
          },
          "metadata": {
            "needs_background": "light"
          },
          "output_type": "display_data"
        }
      ],
      "source": [
        "plt.figure(figsize=((10,6)))\n",
        "plt.xlabel('X1') \n",
        "plt.ylabel('Y1') \n",
        "\n",
        "d1=np.log(1000)\n",
        "d2=d1*t1+t0\n",
        "print(d2)\n",
        "# Concaténation des valeurs prédictes à la fin des vecteurs X et Y\n",
        "X1=np.append(X,[d1])\n",
        "Y1=np.append(Y,[d2])\n",
        "\n",
        "## Conditionnement de couleur pour la valeur prédicte pour GNP=1000\n",
        "colors = ['purple' if (v.round(5) == d1.round(5)) else 'lightgray'\n",
        "                  for v in X1]\n",
        "\n",
        "ax = sns.regplot(x=X1,y= Y1, ci=90,marker='o',scatter_kws={'facecolors': colors,'s':300})\n",
        "plt.show()"
      ]
    },
    {
      "cell_type": "markdown",
      "id": "8a344c82",
      "metadata": {
        "id": "8a344c82"
      },
      "source": [
        "NOTE : On introduit une nouvelle variable explicative, la variable interest (sans transformation logarithmique). \n",
        "    \n",
        "Les questions suivantes (9 à 12) doivent être réalisées par l’intermédiaire d’opérations élémentaires, sans utiliser \n",
        "de librairies existantes (on utilisera par exemple inv et eig de numpy.linalg).\n",
        "\n",
        "### Question 9\n",
        "Pour la régression de Investment sur GNP et interest, calculer la matrice de Gram non standardisée (Z.T)Z. \n",
        "Est-elle de rang plein ?"
      ]
    },
    {
      "cell_type": "code",
      "execution_count": null,
      "id": "e9dfc208",
      "metadata": {
        "id": "e9dfc208",
        "outputId": "a18554e0-291d-4d6a-df52-e4f93666d07b"
      },
      "outputs": [
        {
          "name": "stdout",
          "output_type": "stream",
          "text": [
            "La matrice de GRAM non standardisée est la suivante :\n",
            " [[ 8.03374345e+02 -1.23124121e+02  1.43190679e+01]\n",
            " [-1.23124121e+02  1.90722187e+01 -2.37445401e+00]\n",
            " [ 1.43190679e+01 -2.37445401e+00  4.31089208e-01]] \n",
            "\n",
            "Le déterminant de la matrice de Gram calculée est :  2.58379581307541 . Il est différent de 0.\n",
            "\n",
            "On en déduit que la matrice de Gram non standardisée calculée est de plein rang\n",
            "\n"
          ]
        }
      ],
      "source": [
        "\n",
        "L=np.array(data[\"interest\"]) \n",
        "L=np.reshape(L,(len(L),1))\n",
        "\n",
        "X2=np.concatenate((X,L),axis=1)\n",
        "z3=zezons(X2) \n",
        "\n",
        "\n",
        "## Nouvelles matrices z1 et z2 pour chacune des variable gnp et interest\n",
        "z1=zezons(X)\n",
        "z2=zezons(L)\n",
        "\n",
        "\n",
        "# Fonction de calcul de la matrice de GRAM non standardisée\n",
        "def calcul_gs(z):\n",
        "    return (z.T.dot(z).dot(1.0/len(z)))\n",
        "gs3=np.linalg.inv(calcul_gs(z3))\n",
        "\n",
        "print(\"La matrice de GRAM non standardisée est la suivante :\\n\",gs3,\"\\n\")\n",
        "\n",
        "\n",
        "dett=np.linalg.det(gs3)\n",
        "\n",
        "\n",
        "print(\"Le déterminant de la matrice de Gram calculée est : \",dett,\". Il est différent de 0.\\n\")\n",
        "print(\"On en déduit que la matrice de Gram non standardisée calculée est de plein rang\\n\")"
      ]
    },
    {
      "cell_type": "markdown",
      "id": "8e46ae38",
      "metadata": {
        "id": "8e46ae38"
      },
      "source": [
        "### Question 10 \n",
        "Pour la régression de Investment sur GNP et interest, estimer les 3 coefficients et leurs écarttypes ainsi que le coefficient de détermination. En plus, faire un test de Student de significativité\n",
        "de chaque coefficient (donner la statistique de test et la p-valeur). Afficher les résultats dans une\n",
        "forme convenable. Discuter de la significativité des coefficients."
      ]
    },
    {
      "cell_type": "code",
      "execution_count": null,
      "id": "d8892bac",
      "metadata": {
        "id": "d8892bac",
        "outputId": "11315c6c-f22e-4e62-a39a-88b2e5467623"
      },
      "outputs": [
        {
          "name": "stdout",
          "output_type": "stream",
          "text": [
            "Les valeurs de l'estimateur : ( Intercept :  -2.1804547259122575 , la pente p1 (variable gnp):  1.0512426913198811 ) et la pente p2 (variable interest) :  -0.006528879406102708\n"
          ]
        }
      ],
      "source": [
        "### Estimation des coefficients\n",
        "\n",
        "def pred_coef(z,Y):\n",
        "    return np.linalg.inv(z.transpose().dot(z)).dot(z.transpose()).dot(Y)\n",
        "    \n",
        "theta_=pred_coef(z3,Y)\n",
        "\n",
        "print(\"Les valeurs de l'estimateur : ( Intercept : \",theta_[0],\", la pente p1 (variable gnp): \",theta_[1],\\\n",
        "      \") et la pente p2 (variable interest) : \",theta_[2])\n"
      ]
    },
    {
      "cell_type": "code",
      "execution_count": null,
      "id": "59f86b34",
      "metadata": {
        "id": "59f86b34",
        "outputId": "bcf7503f-fa26-41be-e2f3-e6e2f40e46c7"
      },
      "outputs": [
        {
          "name": "stdout",
          "output_type": "stream",
          "text": [
            "Les nouveaux écart-types pour chaque coefficients sont : 0.6623991977963694 0.10206137806192318 0.01534420506560421\n",
            "La valeur du coefficient de détermination est  0.9633108306726246\n"
          ]
        }
      ],
      "source": [
        "### Calcul de leurs écart-types \n",
        "sigma=sigma2(Y,theta_,z3,len(Y))\n",
        "\n",
        "Y=np.reshape(Y,(len(Y),1))\n",
        "\n",
        "ect=[]\n",
        "\n",
        "def calcul_gram2(z):\n",
        "    return (z.T.dot(z))\n",
        "gr=np.linalg.inv(calcul_gram2(z3))\n",
        "\n",
        "\n",
        "\n",
        "ect.append(np.sqrt(sigma*gr[0][0]))\n",
        "ect.append(np.sqrt(sigma*gr[1][1]))\n",
        "ect.append(np.sqrt(sigma*gr[2][2]))\n",
        "\n",
        "\n",
        "print(\"Les nouveaux écart-types pour chaque coefficients sont :\",ect[0],ect[1],ect[2])\n",
        "\n",
        "### Calcul du nouvel Ypred\n",
        "\n",
        "Ypred_=(X2[:,0]*theta_[1] + X2[:,1]*theta_[2] + theta_[0]).reshape(-1,1)\n",
        "\n",
        "data[\"invest_pred\"]=Ypred_\n",
        "\n",
        "\n",
        "## calcul du coefficient de determination\n",
        "\n",
        "ssres=np.sum((Y-Ypred_)**2)\n",
        "sstos=np.sum((Y-np.mean(Y))**2)\n",
        "r2s1=1-ssres/sstos\n",
        "\n",
        "print(\"La valeur du coefficient de détermination est \",r2s1)"
      ]
    },
    {
      "cell_type": "code",
      "execution_count": null,
      "id": "7cc09ff2",
      "metadata": {
        "id": "7cc09ff2"
      },
      "outputs": [],
      "source": [
        "### Test de student pour chaque coefficient\n",
        "\n",
        "tstat=[]\n",
        "\n",
        "theta_=theta_.reshape(-1,1)\n",
        "\n",
        "### test de Student pour le coefficient de GNP\n",
        "\n",
        "Y=np.reshape(Y,(len(Y),1))\n",
        "sigma=sigma2(Y,theta_,z3,len(Y))\n",
        "\n",
        "\n",
        "tstat.append(stat(theta_[0][0], gs3[0][0], sigma, len(Y)))\n",
        "tstat.append(stat(theta_[1][0], gs3[1][1], sigma, len(Y)))\n",
        "tstat.append(stat(theta_[2][0], gs3[2][2], sigma, len(Y)))\n",
        "\n",
        "#print(tstat)"
      ]
    },
    {
      "cell_type": "code",
      "execution_count": null,
      "id": "f2b9de6a",
      "metadata": {
        "id": "f2b9de6a",
        "outputId": "2d005595-a872-480a-c880-c37814ad3d21"
      },
      "outputs": [
        {
          "name": "stdout",
          "output_type": "stream",
          "text": [
            "2\n",
            "La valeur du test statistique est :  -3.291753270786138  et la p-values est :  0.006438367050918492 avec un degré de test de Student de: 12 \n",
            "\n",
            "La valeur du test statistique est :  10.300102852639247  et la p-values est :  2.5995168484449493e-07 avec un degré de test de Student de: 12 \n",
            "\n",
            "La valeur du test statistique est :  -0.4254947961258704  et la p-values est :  0.6780071418822728 avec un degré de test de Student de: 12 \n",
            "\n"
          ]
        }
      ],
      "source": [
        "from scipy import stats\n",
        "\n",
        "\n",
        "rang=np.linalg.matrix_rank(z1)\n",
        "print(rang)\n",
        "for i in range(0,3):\n",
        "    p=2*(1-stats.t.cdf(np.abs(tstat[i]),12))\n",
        "    print(\"La valeur du test statistique est : \", tstat[i],\" et la p-values est : \",p,\\\n",
        "          \"avec un degré de test de Student de:\",len(Y)-3,'\\n')"
      ]
    },
    {
      "cell_type": "markdown",
      "id": "0bed23c4",
      "metadata": {
        "id": "0bed23c4"
      },
      "source": [
        "### Question 11 \n",
        "Pour les valeurs de GNP 1000 et interest 10, i.e., z =(1, 1000, 10)T , prédire log(investment) et\n",
        "donner les intervalles de confiance CI et PI au niveau 99.9%.\n",
        "\n"
      ]
    },
    {
      "cell_type": "code",
      "execution_count": null,
      "id": "33d3084d",
      "metadata": {
        "id": "33d3084d",
        "outputId": "1ebb0b94-c96b-43b2-e484-e3dbf1043c66"
      },
      "outputs": [
        {
          "name": "stdout",
          "output_type": "stream",
          "text": [
            "La valeur prédicte de log(investment) est : 5.015983730483013 \n",
            "\n",
            "[[0.96158644]]\n",
            "0.09051205972421458\n",
            "[[5.01598373]]\n",
            "4.317791283606267\n",
            "L'intervalle de confiance CI est [ 4.64018403668841 , 5.391783424277616 ] \n"
          ]
        }
      ],
      "source": [
        "liste=[]\n",
        "\n",
        "## Notre valeur 1000 dans d\n",
        "d1=1000\n",
        "d2=10\n",
        "zz=np.array([1,np.log(1000),10])\n",
        "\n",
        "\n",
        "zz=np.reshape(zz,(len(zz),1))\n",
        "\n",
        "zz=zz.T\n",
        "\n",
        "# Calcul de la prédiction de\n",
        "val=zz.dot(theta_)\n",
        "\n",
        "print(\"La valeur prédicte de log(investment) est :\",val[0][0],'\\n')\n",
        "\n",
        "ts2=np.abs(stats.t.ppf(1-0.0005,12))\n",
        "\n",
        "\n",
        "\n",
        "sq=np.sqrt(zz.dot(np.linalg.inv(z3.T.dot(z3))).dot(zz.T))\n",
        "sig=np.sqrt(sigma)\n",
        "print(sq)\n",
        "print(sig)\n",
        "print(zz.dot(theta_))\n",
        "print(ts2)\n",
        "## Calcul des bornes de l'intervalle de confiance\n",
        "\n",
        "high=zz.dot(theta_)+ ts2*sig*sq\n",
        "low=zz.dot(theta_)- ts2*sig*sq\n",
        "\n",
        "print(\"L'intervalle de confiance CI est [\",low[0][0],\",\",high[0][0] ,\"] \")\n",
        "\n"
      ]
    },
    {
      "cell_type": "code",
      "execution_count": null,
      "id": "1c80f491",
      "metadata": {
        "id": "1c80f491",
        "outputId": "b3f997c3-1a8b-4b29-a5b0-01f02af300ad"
      },
      "outputs": [
        {
          "name": "stdout",
          "output_type": "stream",
          "text": [
            "L'intervalle de prediction PI est [ 4.473803343640594 , 5.558164117325432 ] \n"
          ]
        }
      ],
      "source": [
        "sq=np.sqrt(1+ zz.dot(np.linalg.inv(z3.T.dot(z3))).dot(zz.T))\n",
        "\n",
        "sig=np.sqrt(sigma)\n",
        "\n",
        "## Calcul des bornes de l'intervalle de confiance\n",
        "\n",
        "high=zz.dot(theta_)+ ts2*sig*sq\n",
        "low=zz.dot(theta_)- ts2*sig*sq\n",
        "\n",
        "print(\"L'intervalle de prediction PI est [\",low[0][0],\",\",high[0][0] ,\"] \")"
      ]
    },
    {
      "cell_type": "markdown",
      "id": "7fa23dd0",
      "metadata": {
        "id": "7fa23dd0"
      },
      "source": [
        "### Question 12\n",
        "Sur un même graphe à 3 dimensions avec les axes suivants : log(GNP), Interest, and log(Investment),\n",
        "tracer les données, le “plan” de régression et les surfaces correspondantes aux intervalles de confiance\n",
        "à 99.9% (ces surfaces seront tracées sur le domaine de définition des données). On pourra par exemple\n",
        "utiliser la librairie mplot3D"
      ]
    },
    {
      "cell_type": "code",
      "execution_count": null,
      "id": "7af00612",
      "metadata": {
        "id": "7af00612"
      },
      "outputs": [],
      "source": [
        "def t_I_conf(alpha, deg):\n",
        "    # renvoie l'intervalle de confiance de niveau alpha pour une Student de degré deg\n",
        "    I = [(1 - alpha) / 2., 1 - (1 - alpha) / 2.]\n",
        "    t_I = stat.t.ppf(I, deg)\n",
        "    return t_I"
      ]
    },
    {
      "cell_type": "code",
      "execution_count": null,
      "id": "a04a3ddb",
      "metadata": {
        "id": "a04a3ddb",
        "outputId": "8301791e-226b-4c7f-caf3-2326f64f9eec"
      },
      "outputs": [
        {
          "data": {
            "image/png": "[encoded data removed]",
            "text/plain": [
              "<Figure size 720x720 with 1 Axes>"
            ]
          },
          "metadata": {
            "needs_background": "light"
          },
          "output_type": "display_data"
        }
      ],
      "source": [
        "alpha=0.001\n",
        "\n",
        "### Matrice Z\n",
        "\n",
        "L=np.array(data[\"interest\"]) \n",
        "L=np.reshape(L,(len(L),1))\n",
        "\n",
        "X2=np.concatenate((X,L),axis=1)\n",
        "z3=zezons(X2) \n",
        "\n",
        "## T stat\n",
        "t = stats.t.ppf((1 - alpha / 2), len(y) - np.linalg.matrix_rank(z3))\n",
        "\n",
        "def confidance_interval(t, z, Z, thetas, sigma_square):\n",
        "    start = (z.T.dot(thetas))\n",
        "    end = t * math.sqrt(sigma_square) * \\\n",
        "          np.sqrt(z.T.dot(np.linalg.inv(Z.T.dot(Z))).dot(z))\n",
        "    low = start - end\n",
        "    high = start + end\n",
        "    return low[0][0], high[0][0]\n",
        "\n",
        "\n",
        "# Fonction de calcul de la matrice de GRAM non standardisée\n",
        "\n",
        "def calcul_gs(z):\n",
        "    return (z.T.dot(z).dot(1.0/len(z)))\n",
        "gs3=np.linalg.inv(calcul_gs(z3))\n",
        "\n",
        "# Calcul de theta_\n",
        "\n",
        "def pred_coef(z,Y):\n",
        "    return np.linalg.inv(z.transpose().dot(z)).dot(z.transpose()).dot(Y)\n",
        "    \n",
        "theta_=pred_coef(z3,Y)\n",
        "\n",
        "### Calcul de sigma\n",
        "\n",
        "sig_square=sigma2(Y,theta_,z3,len(Y))\n",
        "\n",
        "# Calcul de la prédiction de\n",
        "val=zz.dot(theta_)\n",
        "\n",
        "\n",
        "fig = plt.figure(figsize=(10, 10))\n",
        "ax = fig.add_subplot(111, projection='3d')\n",
        "\n",
        "\n",
        "# Plot des points\n",
        "\n",
        "ax.scatter(z3[:, 1], z3[:, 2], Y, c='b', label='Investment data')\n",
        "predY = theta_[0] + theta_[1] * z3[:, 1] + theta_[2] * z3[:, 2]\n",
        "ax.scatter(z3[:, 1], z3[:, 2], predY, c='k', label='Predicted data')\n",
        "\n",
        "# Plan de régression\n",
        "x3 = np.arange(np.min(z3[:, 1]), np.max(z3[:, 1]))\n",
        "y3 = np.arange(np.min(z3[:, 2]), np.max(z3[:, 2]))\n",
        "x3, y3 = np.meshgrid(x3, y3)\n",
        "\n",
        "surf3d = theta_[0] + theta_[1] * x3 + theta_[2] * y3\n",
        "ax.plot_wireframe(x3, y3, surf3d, color='r', label='Regression plane')\n",
        "\n",
        "# Plan de confiance\n",
        "X3=np.concatenate((x3.reshape(-1,1),y3.reshape(-1,1)),axis=1)\n",
        "Zconf=zezons(X3)\n",
        "#print(Zconf)#np.array([np.ones(x3.shape[0] * x3.shape[1]), x3.ravel(), y3.ravel()]).T\n",
        "zs_min_conf = []\n",
        "zs_max_conf = []\n",
        "\n",
        "for z in Zconf:\n",
        "    z = z.reshape(-1, 1)\n",
        "    blow, bhigh = confidance_interval(t, z, Zconf, theta_, sig_square)\n",
        "    zs_min_conf.append(blow)\n",
        "    zs_max_conf.append(bhigh)\n",
        "\n",
        "zs_min_conf = np.array(zs_min_conf).reshape(-1,2)\n",
        "zs_max_conf = np.array(zs_max_conf).reshape(-1,2)\n",
        "\n",
        "ax.plot_wireframe(x3, y3, zs_min_conf, color='b', label='Plan de confiance')\n",
        "ax.plot_wireframe(x3, y3, zs_max_conf, color='b')\n",
        "\n",
        "ax.set_title('Investment ')\n",
        "ax.set_xlabel('log(GNP)')\n",
        "ax.set_ylabel('Interest')\n",
        "ax.set_zlabel('log(Investment)')\n",
        "ax.legend()\n",
        "plt.show() "
      ]
    },
    {
      "cell_type": "markdown",
      "id": "37ee1f04",
      "metadata": {
        "id": "37ee1f04"
      },
      "source": [
        "### Question 13 \n",
        "En utilisant des classes/librairies existantes, donner les coefficients de régression, le coefficient de\n",
        "détermination ainsi que l’investissement prédit par le modèle quand GNP vaut 1000 et interest\n",
        "10. La classe LinearRegression() de sklearn.linear_model est suggérée mais pas obligatoire.\n",
        "Vérifier que les valeurs calculées ici coïncident avec celles des questions précédentes."
      ]
    },
    {
      "cell_type": "code",
      "execution_count": null,
      "id": "324796e5",
      "metadata": {
        "id": "324796e5",
        "outputId": "a7eba9ea-f262-40ac-e471-c933564d6017"
      },
      "outputs": [
        {
          "name": "stdout",
          "output_type": "stream",
          "text": [
            "Model Intercept :\t\t-2.1804547259114013\n",
            "Notre Intercept (theta_0) :\t[-2.18045473]\n",
            "\n",
            "Les pentes du modèle sont :\t1.0512426913196595, -0.0065288794060684874\n",
            "Nos Pentes sont :\t\t[1.05124269], [-0.00652888]\n",
            "\n",
            "Coefficient de determination du modèle :\t0.9633108306726244\n",
            "Notre coefficient de determination :\t\t0.9633108306726246\n",
            "\n",
            "Le modèlere à prédit pour que X = 1000 que y est :\t5.015983730482681\n",
            "Notre modèle a trouvé que y est :\t\t\t[5.01598373]\n"
          ]
        }
      ],
      "source": [
        "model = LinearRegression().fit(z3, Y)\n",
        "\n",
        "prediction_1000 = model.predict(zz)\n",
        "\n",
        "print('Model Intercept :\\t\\t' + str(model.intercept_[0]) + \\\n",
        "      '\\nNotre Intercept (theta_0) :\\t' + str(theta_[0]))\n",
        "\n",
        "print('\\nLes pentes du modèle sont :\\t' + str(model.coef_[0][1]) + \\\n",
        "      ', ' + str(model.coef_[0][2]) + \\\n",
        "      '\\nNos Pentes sont :\\t\\t' + str(theta_[1]) + ', ' + str(theta_[2]))\n",
        "\n",
        "print('\\nCoefficient de determination du modèle :\\t' + str(model.score(z3, Y)) + \\\n",
        "      '\\nNotre coefficient de determination :\\t\\t' + str(r2s1))\n",
        "\n",
        "print('\\nLe modèlere à prédit pour que X = 1000 que y est :\\t' + str(prediction_1000[0][0]) + \\\n",
        "      '\\nNotre modèle a trouvé que y est :\\t\\t\\t' + str(val[0]))"
      ]
    },
    {
      "cell_type": "markdown",
      "id": "1db2cfbc",
      "metadata": {
        "id": "1db2cfbc"
      },
      "source": [
        "### Question 14 \n",
        "Charger le dataset sur le diabète à partir de sklearn (load_diabetes(return_X_y=True)) et soit X\n",
        "la troisième colonne des données chargées (la matrice des covariables est constituée uniquement de la\n",
        "variable 3 du dataset original). \n",
        "\n",
        "\n",
        "Nous allons calculer approximativement les intervalles de confiance\n",
        "(IC) pour le coefficient θ1 par Bootstrapping.\n",
        "\n",
        "‚ Donner le coefficient OLS pour la pente, θ1\n",
        "\n",
        ". Coder manuellement l’expression des intervalles de confiance et évaluez-la pour α “ 0, 05 (l’utilisation de statsmodel n’est pas autorisée).\n",
        "\n",
        "Nous désignons la concaténation de X et y par Xy. Générer k échantillons bootstrap à partir de Xy, pour k P t100, 300, 600, 1000u. Un échantillon bootstrap a la même dimension que Xy et est formé de points de données (lignes) tirés, avec remplacement, de Xy.\n",
        "\n",
        "‚ (Pour chaque valeur de k) (i) Estimez le coefficient θ1 pour chaque échantillon bootstrap avec\n",
        "sklearn, (ii) obtenez une approximation de l’IC en obtenant les quantiles α et 1´α des valeurs\n",
        "de l’étape (i).\n",
        "\n",
        ". Tracer, pour chaque valeur de k, la différence entre l’IC approximé à l’étape précédente et l’IC\n",
        "réel.\n",
        "\n",
        ". L’IC augmente-t-il avec α ?\n",
        "\n"
      ]
    },
    {
      "cell_type": "code",
      "execution_count": null,
      "id": "c8d63ee1",
      "metadata": {
        "id": "c8d63ee1",
        "outputId": "683ea1ba-fd44-430f-a3f9-a6b4eee8c6bd"
      },
      "outputs": [
        {
          "name": "stdout",
          "output_type": "stream",
          "text": [
            "La valeur de la pente theta_1 est égal à : 949.4352603839496\n"
          ]
        }
      ],
      "source": [
        "### Calcul du coefficient de pente theta[1]\n",
        "\n",
        "from sklearn import datasets\n",
        "from sklearn.preprocessing import StandardScaler\n",
        "\n",
        "X, y = datasets.load_diabetes(return_X_y=True)\n",
        "X = X[:,2].reshape(-1, 1)\n",
        "y = y.reshape(-1, 1)\n",
        "\n",
        "\"\"\"scaler = StandardScaler()\n",
        "X = scaler.fit_transform(X)\n",
        "y = scaler.fit_transform(y)\"\"\"\n",
        "\n",
        "matrix_of_ones = np.ones((X.shape[0], 1))\n",
        "Z = np.concatenate((matrix_of_ones, X), axis = 1)\n",
        "\n",
        "# On retrouve la valeur de theta_1 à l'aide de l'équation normale\n",
        "thetas = np.linalg.inv(Z.transpose().dot(Z)).dot(Z.transpose()).dot(y)\n",
        "\n",
        "theta_0 = thetas[0][0]\n",
        "theta_1 = thetas[1][0]\n",
        "print('La valeur de la pente theta_1 est égal à : ' + str(theta_1))"
      ]
    },
    {
      "cell_type": "markdown",
      "id": "8f307a33",
      "metadata": {
        "id": "8f307a33"
      },
      "source": [
        "Coder manuellement l’expression des intervalles de confiance et évaluez-la pour α “ 0, 05 "
      ]
    },
    {
      "cell_type": "code",
      "execution_count": null,
      "id": "173d3c20",
      "metadata": {
        "id": "173d3c20"
      },
      "outputs": [],
      "source": [
        "t = stats.t.ppf((1 - 0.05 / 2), len(y) - np.linalg.matrix_rank(Z))\n",
        "\n",
        "def confidance_interval(t, z, Z, thetas, sigma_square):\n",
        "    start = (z.T.dot(thetas))\n",
        "    end = t * math.sqrt(sigma_square) * \\\n",
        "          np.sqrt(z.T.dot(np.linalg.inv(Z.T.dot(Z))).dot(z))\n",
        "    low = start - end\n",
        "    high = start + end\n",
        "    return low[0][0], high[0][0]\n",
        "\n",
        "def prediction_interval(t, z, Z, thetas, sigma_square):\n",
        "    start = (z.T.dot(thetas))\n",
        "    end = t * math.sqrt(sigma_square) * \\\n",
        "          np.sqrt(1 + z.T.dot(np.linalg.inv(Z.T.dot(Z))).dot(z))\n",
        "    low = start - end\n",
        "    high = start + end\n",
        "    return low[0][0], high[0][0]\n",
        "\n",
        "def sigma_square(y, Z, theta, n):\n",
        "    rank = np.linalg.matrix_rank(Z)\n",
        "    norm = np.linalg.norm(y - Z.dot(theta))\n",
        "    return norm**2 / (n - rank)"
      ]
    },
    {
      "cell_type": "code",
      "execution_count": null,
      "id": "29bdc661",
      "metadata": {
        "id": "29bdc661",
        "outputId": "52f045d8-fbbc-4464-96c4-6975c426c99c"
      },
      "outputs": [
        {
          "data": {
            "image/png": "[encoded data removed]",
            "text/plain": [
              "<Figure size 432x288 with 1 Axes>"
            ]
          },
          "metadata": {
            "needs_background": "light"
          },
          "output_type": "display_data"
        }
      ],
      "source": [
        "ys = theta_0 + theta_1 * X\n",
        "sig_square = sigma_square(y, Z, thetas, len(y))\n",
        "\n",
        "plt.figure()\n",
        "plt.scatter(X, y, label='Invest data (logarithmique)')\n",
        "plt.plot(X, ys, c='k', label='Droite de régression')\n",
        "\n",
        "#Affichage de l'intervalle de confiance\n",
        "ys_min_conf = []\n",
        "ys_max_conf = []\n",
        "\n",
        "for z in Z:\n",
        "    z = z.reshape(-1, 1)\n",
        "    low, high = confidance_interval(t, z, Z, thetas, sig_square)\n",
        "    ys_min_conf.append(low)\n",
        "    ys_max_conf.append(high)\n",
        "\n",
        "plt.plot(X, ys_min_conf, 'g--', label='Intervalle de confiance')\n",
        "plt.plot(X, ys_max_conf, 'g--')\n",
        "\n",
        "#Affichage intervalle de prédiction\n",
        "ys_min_conf = []\n",
        "ys_max_conf = []\n",
        "\n",
        "for z in Z:\n",
        "    z = z.reshape(-1, 1)\n",
        "    low, high = prediction_interval(t, z, Z, thetas, sig_square)\n",
        "    ys_min_conf.append(low)\n",
        "    ys_max_conf.append(high)\n",
        "\n",
        "plt.plot(X, ys_min_conf, 'r--', label='Intervalle de prédiction')\n",
        "plt.plot(X, ys_max_conf, 'r--')\n",
        "\n",
        "plt.title('Investment data (logarithmique)')\n",
        "plt.xlabel('log(GNP)')\n",
        "plt.ylabel('log(Investment)')\n",
        "plt.legend(bbox_to_anchor=(0,1), loc='upper left')\n",
        "plt.show()"
      ]
    },
    {
      "cell_type": "code",
      "execution_count": null,
      "id": "a4022f40",
      "metadata": {
        "id": "a4022f40",
        "outputId": "ce8afc2d-c51c-4a4b-8305-42b23ab3cd8b"
      },
      "outputs": [
        {
          "name": "stdout",
          "output_type": "stream",
          "text": [
            "L'intervalle de confiance CI réel est [ 943.59115152107 , 955.2793692468293 ] \n"
          ]
        }
      ],
      "source": [
        "t = stats.t.ppf((1 - 0.025), len(y) - np.linalg.matrix_rank(Z))\n",
        "def calcul_gram2(z):\n",
        "    return (z.T.dot(z))\n",
        "gr=np.linalg.inv(calcul_gram2(Z))\n",
        "\n",
        "intervalle=[]\n",
        "## Calcul des bornes de l'intervalle de confiance\n",
        "\n",
        "low=theta_1 - t* (np.sqrt(sig_square*gr[1][1])/np.sqrt(len(Z))) \n",
        "high=theta_1 + t*(np.sqrt(sig_square*gr[1][1])/np.sqrt(len(Z))) \n",
        "intervalle.append(low)\n",
        "intervalle.append(high)\n",
        "print(\"L'intervalle de confiance CI réel est [\",low,\",\",high ,\"] \")"
      ]
    },
    {
      "cell_type": "markdown",
      "id": "43a05d44",
      "metadata": {
        "id": "43a05d44"
      },
      "source": [
        "Nous désignons la concaténation de X et y par Xy. Générer k échantillons bootstrap à partir de Xy, pour k P t100, 300, 600, 1000u. Un échantillon bootstrap a la même dimension que Xy et est formé de points de données (lignes) tirés, avec remplacement, de Xy.\n",
        "\n",
        "‚ (Pour chaque valeur de k) (i) Estimez le coefficient θ1 pour chaque échantillon bootstrap avec sklearn, (ii) obtenez une approximation de l’IC en obtenant les quantiles α et 1´α des valeurs de l’étape (i).\n",
        "\n"
      ]
    },
    {
      "cell_type": "markdown",
      "id": "ef6e2794",
      "metadata": {
        "id": "ef6e2794"
      },
      "source": [
        ".Calculer, pour chaque valeur de k, la différence entre l’IC approximé à l’étape précédente et l’IC réel.\n"
      ]
    },
    {
      "cell_type": "code",
      "execution_count": null,
      "id": "e49bbdf8",
      "metadata": {
        "id": "e49bbdf8",
        "outputId": "435240ae-ecd5-4b75-c238-e23866a62d0b"
      },
      "outputs": [
        {
          "name": "stdout",
          "output_type": "stream",
          "text": [
            "L'intervalle de confiance  est [832.071618480455 , 1054.9699958845858] pour k= 100 \n",
            "\n",
            "L'intervalle de confiance  est [841.63113291495 , 1052.4415360025712] pour k= 300 \n",
            "\n",
            "L'intervalle de confiance  est [831.358686927241 , 1052.0062668281867] pour k= 600 \n",
            "\n",
            "L'intervalle de confiance  est [834.3255817938963 , 1053.8738739742407] pour k= 1000 \n",
            "\n",
            "La pente obtenue en fonction des k vaut:  [955.7762297945391, 950.4627669859809, 950.1889242861707, 947.3952612258958] \n",
            "\n"
          ]
        }
      ],
      "source": [
        "Xy = np.concatenate((X, y), axis = 1)\n",
        "\n",
        "#Creation des échantillons bootstrap\n",
        "\n",
        "iterations = [100, 300, 600, 1000]\n",
        "\n",
        "def bootstrapf2(Xy , iterations):\n",
        "    \n",
        "    #Xy = np.concatenate((X, y), axis = 1)\n",
        "    \n",
        "    coef_means = []\n",
        "    intervalles = []\n",
        "    lows=[]\n",
        "    highs=[]\n",
        "    for k in iterations:\n",
        "\n",
        "        coefficients = []\n",
        "        coefficients0=[]\n",
        "        coefficients1=[]\n",
        "        for i in range(k):\n",
        "            \n",
        "            # Tirage aléatoire\n",
        "            tmp = np.array(random.choices(Xy, k=Xy.shape[0]))\n",
        "            X_sample = tmp[:,0].reshape(-1, 1)\n",
        "            #Z_sample = np.concatenate((np.ones((X_sample.shape[0], 1)), X_sample), axis = 1)\n",
        "            y_sample = tmp[:,1].reshape(-1, 1)\n",
        "\n",
        "            # i) La pente\n",
        "            model = LinearRegression().fit(X_sample, y_sample)\n",
        "            t1=np.array(model.coef_[0]).reshape(1,-1)\n",
        "            coefficients1.append(t1[0])\n",
        "        \n",
        "        # ii) Les intervalles de confiance\n",
        "        low=np.quantile(coefficients1,0.05/2)\n",
        "        lows.append(low)\n",
        "        high = np.quantile(coefficients1,1-(0.05/2))\n",
        "        highs.append(high)\n",
        "        print(f\"L'intervalle de confiance  est [{low} , {high}]\",\"pour k=\",k,\"\\n\")\n",
        "        coef_means.append(np.mean(coefficients1))\n",
        "        intervalles.append((low,high))\n",
        "    return coef_means,lows,highs\n",
        "\n",
        "        \n",
        "theta1, lows, highs=bootstrapf2(Xy , iterations)\n",
        "\n",
        "print(\"La pente obtenue en fonction des k vaut: \",theta1,\"\\n\")\n"
      ]
    },
    {
      "cell_type": "code",
      "execution_count": null,
      "id": "ea8d8164",
      "metadata": {
        "id": "ea8d8164"
      },
      "outputs": [],
      "source": [
        "def confidance_interval(t, z, Z, thetas, sigma_square):\n",
        "    start = (z.T.dot(thetas))\n",
        "    end = t * math.sqrt(sigma_square) * \\\n",
        "          np.sqrt(z.T.dot(np.linalg.inv(Z.T.dot(Z))).dot(z))\n",
        "    low = start - end\n",
        "    high = start + end\n",
        "    return low[0][0], high[0][0]"
      ]
    },
    {
      "cell_type": "markdown",
      "id": "97d47036",
      "metadata": {
        "id": "97d47036"
      },
      "source": [
        "Exprimons les écarts entre les intervalles de confiances bootstrap et l'intervalle confiance"
      ]
    },
    {
      "cell_type": "code",
      "execution_count": null,
      "id": "c37d8b77",
      "metadata": {
        "id": "c37d8b77",
        "outputId": "70091ad8-4f8f-4a68-e34f-09280dffa6f7"
      },
      "outputs": [
        {
          "name": "stdout",
          "output_type": "stream",
          "text": [
            "Les bornes de l'intervalle de confiance de bootstrap pour k = 100  est : borne inf :  832.071618480455  borne sup:  1054.9699958845858 avec une pente moyenne de  955.7762297945391 \n",
            "\n",
            "La différence entres les bornes de l'intervalle de confiance réel et celui de bootstrap pour k = 100  est : borne inf :  111.51953304061499  borne sup:  -99.69062663775651 \n",
            "\n",
            "Les bornes de l'intervalle de confiance de bootstrap pour k = 300  est : borne inf :  841.63113291495  borne sup:  1052.4415360025712 avec une pente moyenne de  950.4627669859809 \n",
            "\n",
            "La différence entres les bornes de l'intervalle de confiance réel et celui de bootstrap pour k = 300  est : borne inf :  101.96001860612  borne sup:  -97.16216675574185 \n",
            "\n",
            "Les bornes de l'intervalle de confiance de bootstrap pour k = 600  est : borne inf :  831.358686927241  borne sup:  1052.0062668281867 avec une pente moyenne de  950.1889242861707 \n",
            "\n",
            "La différence entres les bornes de l'intervalle de confiance réel et celui de bootstrap pour k = 600  est : borne inf :  112.23246459382892  borne sup:  -96.72689758135732 \n",
            "\n",
            "Les bornes de l'intervalle de confiance de bootstrap pour k = 1000  est : borne inf :  834.3255817938963  borne sup:  1053.8738739742407 avec une pente moyenne de  947.3952612258958 \n",
            "\n",
            "La différence entres les bornes de l'intervalle de confiance réel et celui de bootstrap pour k = 1000  est : borne inf :  109.26556972717367  borne sup:  -98.59450472741139 \n",
            "\n"
          ]
        }
      ],
      "source": [
        "\n",
        "\n",
        "iterations = [100, 300, 600, 1000]\n",
        "for i in range(len(lows)):\n",
        "    print(\"Les bornes de l'intervalle de confiance de bootstrap pour k =\",iterations[i],\" est : borne inf : \",lows[i],\" borne sup: \",highs[i],\\\n",
        "          \"avec une pente moyenne de \",theta1[i],\"\\n\")\n",
        "    print(\"La différence entres les bornes de l'intervalle de confiance réel et celui de bootstrap pour k =\",iterations[i],\" est : borne inf : \",intervalle[0]-lows[i],\" borne sup: \",intervalle[1]-highs[i],\"\\n\")"
      ]
    },
    {
      "cell_type": "code",
      "execution_count": null,
      "id": "a2dec176",
      "metadata": {
        "id": "a2dec176",
        "outputId": "565eb4f0-a215-465d-d785-3ce4c3f39b48"
      },
      "outputs": [
        {
          "name": "stdout",
          "output_type": "stream",
          "text": [
            "La longueur de l'intervalle de confiance CI en fonction de la valeur de alpha est : 9.80271889339565 \n",
            "\n",
            "La longueur de l'intervalle de confiance CI en fonction de la valeur de alpha est : 4.014564424668606 \n",
            "\n",
            "La longueur de l'intervalle de confiance CI en fonction de la valeur de alpha est : 1.8961609851578487 \n",
            "\n",
            "La longueur de l'intervalle de confiance CI en fonction de la valeur de alpha est : 0.7477498120035762 \n",
            "\n"
          ]
        },
        {
          "data": {
            "image/png": "[encoded data removed]",
            "text/plain": [
              "<Figure size 432x288 with 1 Axes>"
            ]
          },
          "metadata": {
            "needs_background": "light"
          },
          "output_type": "display_data"
        }
      ],
      "source": [
        "alpha=[0.1,0.5,0.75,0.9]\n",
        "\n",
        "def plot_alpha_CI(alpha,Z,y,sig_square,gr):\n",
        "    ecart=[]\n",
        "    for i in range(len(alpha)):\n",
        "        \n",
        "        t = stats.t.ppf((1 - alpha[i]/2), len(y) - np.linalg.matrix_rank(Z))\n",
        "        intervalle=[]\n",
        "        ## Calcul des bornes de l'intervalle de confiance\n",
        "\n",
        "        low=theta_1 - t* (np.sqrt(sig_square*gr[1][1])/np.sqrt(len(Z))) \n",
        "        high=theta_1 + t*(np.sqrt(sig_square*gr[1][1])/np.sqrt(len(Z))) \n",
        "        intervalle.append(low)\n",
        "        intervalle.append(high)\n",
        "        ecart.append(high - low)\n",
        "        print(\"La longueur de l'intervalle de confiance CI en fonction de la valeur de alpha est :\",ecart[i],\"\\n\")\n",
        "    plt.plot(alpha,ecart)\n",
        "    plt.show()\n",
        "    \n",
        "plot_alpha_CI(alpha,Z,y,sig_square,gr)"
      ]
    },
    {
      "cell_type": "markdown",
      "id": "d83d0c0b",
      "metadata": {
        "id": "d83d0c0b"
      },
      "source": [
        "On constate que la taille de l'intervalle de confiance diminue lorsque la valeur de alpha augmente."
      ]
    }
  ],
  "metadata": {
    "kernelspec": {
      "display_name": "Python 3 (ipykernel)",
      "language": "python",
      "name": "python3"
    },
    "language_info": {
      "codemirror_mode": {
        "name": "ipython",
        "version": 3
      },
      "file_extension": ".py",
      "mimetype": "text/x-python",
      "name": "python",
      "nbconvert_exporter": "python",
      "pygments_lexer": "ipython3",
      "version": "3.9.7"
    },
    "colab": {
      "provenance": []
    }
  },
  "nbformat": 4,
  "nbformat_minor": 5
}